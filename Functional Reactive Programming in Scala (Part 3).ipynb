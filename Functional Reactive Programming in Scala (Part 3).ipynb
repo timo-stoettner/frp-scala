{
 "cells": [
  {
   "cell_type": "markdown",
   "metadata": {},
   "source": [
    "## Functional Reactive Programming in Scala from Scratch (Part 3)\n",
    "\n",
    "In this series of posts we want to develop a little framework for Functional Reactive Programming in Scala from scratch. If you haven't read the first two parts of the series yet, make sure to check them out here: [Part 1](https://itnext.io/functional-reactive-programming-in-scala-from-scratch-part-1-9f9db0c47478), [Part 2](https://itnext.io/functional-reactive-programming-in-scala-from-scratch-part-2-3d1559a11629).\n",
    "\n",
    "---\n",
    "\n",
    "In the last article we managed to write a working example of a little framework enabling us to do what we wanted: Keeping track of several bank accounts' balances with a consolidator. The consolidator made use of our little `Signal` framework handling all the complexity of updating the consolidated balances.\n",
    "\n",
    "However, the API wasn't as elegant as we wanted yet. We needed to pass the observed signals to the consolidator explicitly, so it knew which other signals needed to be watched for changes. This was repetitive and error-prone. As a reminder, this is how our function `consolidated` looked like:"
   ]
  },
  {
   "cell_type": "code",
   "execution_count": null,
   "metadata": {},
   "outputs": [],
   "source": [
    "def consolidated(accts: List[BankAccount]): Signal[Int] =\n",
    "  Signal(accts.map(_.balance()).sum, accts.map(_.balance))"
   ]
  },
  {
   "cell_type": "markdown",
   "metadata": {},
   "source": [
    "The first argument to `Signal` constitutes the function to compute our `Signal`'s value. The second argument refers to the other `Signal`s our newly defined `Signal` depends on and therefore have to be watched for changes. \n",
    "\n",
    "This is what we want it to look like:"
   ]
  },
  {
   "cell_type": "code",
   "execution_count": null,
   "metadata": {},
   "outputs": [],
   "source": [
    "def consolidated(accts: List[BankAccount]): Signal[Int] =\n",
    "  Signal(accts.map(_.balance()).sum)"
   ]
  },
  {
   "cell_type": "markdown",
   "metadata": {},
   "source": [
    "In words, we want to get rid of the second argument. Therefore, the new `Signal` has to figure out for itself, which other `Signal`s it depends on.\n",
    "\n",
    "To solve this, we are going to make use of `DynamicVariable`s. I'll have to take a little bit of a detour to explain them, so bare with me. (If you know how to use `DynamicVariable`s or its Java counterpart `ThreadLocal`, feel free to skip this part.)\n",
    "\n",
    "\n",
    "### Using DynamicVariable to Keep Track of Dependencies\n",
    "\n",
    "Scala's `DynamicVariable` is an implementation of the dynamic scoping pattern (thus also the name \"dynamic\" variable). Without going into more depth than necessary, a scope of a computer program refers to the region of that program where you can use an identifier (such as a variable name). There are two ways of scoping: *Lexical (or static) scoping* and *dynamic scoping*.\n",
    "\n",
    "The standard is lexical scoping, which is what you most likely are used to. Here the scope depends on the location in the source code. For example, if you use a variable name in a class method, the compiler first looks for that name in the method itself and then on the class level.\n",
    "\n",
    "Let's look at a little example to illustrate this:"
   ]
  },
  {
   "cell_type": "code",
   "execution_count": 7,
   "metadata": {},
   "outputs": [
    {
     "name": "stdout",
     "output_type": "stream",
     "text": [
      "Value: Class value\n",
      "Value: Method value\n"
     ]
    },
    {
     "data": {
      "text/plain": [
       "defined \u001b[32mclass \u001b[36mScopingTest\u001b[0m\n",
       "\u001b[36mscope\u001b[0m: \u001b[32m$user\u001b[0m.\u001b[32mScopingTest\u001b[0m = cmd5$$user$ScopingTest@44e904d6"
      ]
     },
     "metadata": {},
     "output_type": "display_data"
    }
   ],
   "source": [
    "class ScopingTest(){\n",
    "    val value = \"Class value\"\n",
    "    \n",
    "    def print_class_value = println(s\"Value: $value\")\n",
    "    \n",
    "    def print_method_value = {\n",
    "        val value = \"Method value\"\n",
    "        println(s\"Value: $value\")\n",
    "    }\n",
    "}\n",
    "\n",
    "val scope = new ScopingTest() \n",
    "\n",
    "scope.print_class_value   // Prints \"Value: Class value\"\n",
    "scope.print_method_value  // Prints \"Value: Method value\""
   ]
  },
  {
   "cell_type": "markdown",
   "metadata": {},
   "source": [
    "There are probably no big surprises here. In `print_class_value` there is no `value` defined, so the one defined on the class level is used. In `print_method_value` the `value` is defined within the method itself, which has a higher priority than the definition on the class level.\n",
    "\n",
    "Dynamic scoping, on the other hand, depends on the *execution context*. Here, when you use a variable name in a class method, the compiler will first look for that name in the method itself and then *in the method that called that method* (and so on). There are a few programming languages implementing dynamic scoping, but the vast majority (such as scala) uses static scoping by default.\n",
    "\n",
    "Dynamic scoping can make it pretty hard to understand where the value of a variable comes from. However, if you want to keep track of a value based on who called a method, dynamic scoping is the way to go. \n",
    "\n",
    "If you think back to our bank account example, this is what we are after here. If we know that a `Signal` got called by another `Signal`, we can add it to a set of observers and update those observers whenever something changes. Luckily for us, `DynamicVariable`s implement such a pattern.\n",
    "\n",
    "Let's first have a look at an easy example that illustrates how a `DynamicVariable` works before getting back to bank accounts:"
   ]
  },
  {
   "cell_type": "code",
   "execution_count": 8,
   "metadata": {},
   "outputs": [
    {
     "name": "stdout",
     "output_type": "stream",
     "text": [
      "2\n",
      "4\n",
      "2\n"
     ]
    },
    {
     "data": {
      "text/plain": [
       "\u001b[32mimport \u001b[36mscala.util.DynamicVariable\u001b[0m\n",
       "\u001b[36mdynVar\u001b[0m: \u001b[32mutil\u001b[0m.\u001b[32mDynamicVariable\u001b[0m[\u001b[32mInt\u001b[0m] = DynamicVariable(1)\n",
       "defined \u001b[32mfunction \u001b[36mdynVarTimesTwo\u001b[0m"
      ]
     },
     "metadata": {},
     "output_type": "display_data"
    }
   ],
   "source": [
    "import scala.util.DynamicVariable\n",
    "\n",
    "val dynVar = new DynamicVariable[Int](1)\n",
    "\n",
    "def dynVarTimesTwo = dynVar.value * 2\n",
    "\n",
    "println(dynVarTimesTwo)     // Prints \"2\" (1*2)\n",
    "\n",
    "dynVar.withValue(2){\n",
    "    println(dynVarTimesTwo) // Prints \"4\" (2*2)\n",
    "}\n",
    "\n",
    "println(dynVarTimesTwo)     // Prints \"2\" (1*2)"
   ]
  },
  {
   "cell_type": "markdown",
   "metadata": {},
   "source": [
    "A few things to note here:\n",
    "\n",
    "- When defining a DynamicVariable, we need to pass a default value. Here we set the default value to 1. This value is used unless we explicitly specify the value to be something else.\n",
    "- We can access the DynamicVariable's value by calling `value`.\n",
    "- DynamicVariable has a method `whithValue` that takes a new value and some arbitrary expression as parameters. If the expression accesses the current value of the `DynamicVariable`, it will receive the value that has been passed to `withValue`. *The variable's value therefore depends on the execution context* (as in dynamic scoping).\n",
    "- If we access the variables value without a prior call to `withValue`, we will simply get the default value.\n",
    "\n",
    "You can also nest calls to `withValue` like so:"
   ]
  },
  {
   "cell_type": "code",
   "execution_count": 17,
   "metadata": {},
   "outputs": [
    {
     "name": "stdout",
     "output_type": "stream",
     "text": [
      "2\n",
      "6\n",
      "4\n"
     ]
    },
    {
     "data": {
      "text/plain": []
     },
     "metadata": {},
     "output_type": "display_data"
    }
   ],
   "source": [
    "println(dynVarTimesTwo)          // Prints \"2\"\n",
    "\n",
    "dynVar.withValue(2){\n",
    "    dynVar.withValue(3){\n",
    "        println(dynVarTimesTwo)  // Prints \"6\"\n",
    "    }\n",
    "    println(dynVarTimesTwo)      // Prints \"4\"\n",
    "}"
   ]
  },
  {
   "cell_type": "markdown",
   "metadata": {},
   "source": [
    "A few further notes on DynamicVariables:\n",
    "\n",
    "- Those coming from Java might have noticed that `DynamicVariable`s are very similar to Java's `ThreadLocal`. When looking at the [source code](https://github.com/scala/scala/blob/v2.12.8/src/library/scala/util/DynamicVariable.scala#L1) you can see that `DynamicVariable` actually uses Java's `InheritableThreadLocal`\n",
    "- As the name of its Java counterpart suggests, `DynamicVariable`s are well suited to be used in threading. However, this is not relevant for us in this example\n",
    "- Check out [Wikipedia's page on scope](https://en.wikipedia.org/wiki/Scope_%28computer_science%29) if you want to learn more about static and dynamic scoping."
   ]
  },
  {
   "cell_type": "markdown",
   "metadata": {},
   "source": [
    "### Back to our BankAccount example\n",
    "\n",
    "So how can we use DynamicVariables to keep track of the dependend `Signal`s in our `BankAccount` example? We are going to use them to keep track of who is calling a `Signal` by keeping track of the current caller with the `withValue` method. Whenever one `Signal` calls another `Signal`, we are going to add it to a set of observers. If another part of our program calls the `Signal`, our DynamicVariable will fall back to its default value with no effect.\n",
    "\n",
    "Let's remind ourselves how our code looks like so far:"
   ]
  },
  {
   "cell_type": "code",
   "execution_count": null,
   "metadata": {},
   "outputs": [],
   "source": [
    "class Signal[T](expr: => T) {\n",
    "  private var curExpr: () => T = () => expr\n",
    "  private var curVal: T = expr\n",
    "    \n",
    "  private var observers: Set[Signal[_]] = Set()\n",
    "\n",
    "  protected def computeValue(): Unit = {\n",
    "    curVal = curExpr()\n",
    "    observers.foreach(_.computeValue())\n",
    "  }\n",
    "\n",
    "  protected def update(expr: => T): Unit = {\n",
    "    curExpr = () => expr\n",
    "    computeValue()\n",
    "  }\n",
    "\n",
    "  def apply() = curVal\n",
    "\n",
    "}\n",
    "\n",
    "class Var[T](expr: => T) extends Signal[T](expr) {\n",
    "    override def update(expr: => T): Unit = super.update(expr)\n",
    "}\n",
    "\n",
    "// Companion objects to enable instance creation without 'new' keyword\n",
    "object Signal { def apply[T](expr: => T) = new Signal(expr) }\n",
    "object Var { def apply[T](expr: => T) = new Var(expr) }"
   ]
  },
  {
   "cell_type": "markdown",
   "metadata": {},
   "source": [
    "Here I just took the code from the end of the last article with a few minor changes: I got rid of the second parameter `observed` of `Signal`'s constructor and all references to it. We are not going to need it anymore once we introduce a `DynamicVariable` keeping track of the callers. Note that I kept the variable `observers`, though."
   ]
  },
  {
   "cell_type": "markdown",
   "metadata": {},
   "source": [
    "To incorporate the `DynamicVariable`, we are going to need a default value for it. Since our callers will be of type `Signal`, the default value has to be of type `Signal` as well: "
   ]
  },
  {
   "cell_type": "code",
   "execution_count": null,
   "metadata": {},
   "outputs": [],
   "source": [
    "object NoSignal extends Signal[Nothing](???) {\n",
    "    override def computeValue() = ()\n",
    "}"
   ]
  },
  {
   "cell_type": "markdown",
   "metadata": {},
   "source": [
    "This is simply a dummy Signal of type `Nothing` with no implementation. We also override the method `computeValue` not to get stuck in infinite loops.\n",
    "\n",
    "Next, we are going to define a dynamic variable in the companion object `Signal`, so the complete companion object looks like this:"
   ]
  },
  {
   "cell_type": "code",
   "execution_count": null,
   "metadata": {},
   "outputs": [],
   "source": [
    "object Signal {\n",
    "  val caller = new DynamicVariable[Signal[_]](NoSignal)\n",
    "  def apply[T](expr: => T) = new Signal(expr)\n",
    "}"
   ]
  },
  {
   "cell_type": "markdown",
   "metadata": {},
   "source": [
    "We defined `caller` as a `DynamicVariable` whose value is of type `Signal` and whose default value is `NoSignal`. (The type declaration `Signal[_]` refers to an existential type. Here this basically just means that we don't care about the type.)\n",
    "\n",
    "Note here that we defined `caller` in the companion object and not in the class itself because we only want one instance of it to keep track of the currently calling `Signal`, not one instance per `Signal`.\n",
    "\n",
    "We are going to use `caller` in two places. First, we will add the current caller to the set of observers everytime `apply` is called:"
   ]
  },
  {
   "cell_type": "code",
   "execution_count": null,
   "metadata": {},
   "outputs": [],
   "source": [
    "def apply() = {\n",
    "    observers += caller.value\n",
    "    curVal\n",
    "}"
   ]
  },
  {
   "cell_type": "markdown",
   "metadata": {},
   "source": [
    "Now everytime we access the `Signal`'s value, its caller gets added to the list of observers. If we call from somewhere outside the class without specifying `caller`'s value, the added observer will simpy be `NoSignal`, which has no effect. If we receive the `Signal`'s value from another `Signal`, we need to make sure that we specify the current caller. We will do that in `computeValue`:"
   ]
  },
  {
   "cell_type": "code",
   "execution_count": null,
   "metadata": {},
   "outputs": [],
   "source": [
    "protected def computeValue(): Unit = {\n",
    "    curVal = caller.withValue(this)(curExpr())\n",
    "    observers.foreach(_.computeValue())\n",
    "}"
   ]
  },
  {
   "cell_type": "markdown",
   "metadata": {},
   "source": [
    "That's it! Putting it all together, our code looks as follows:"
   ]
  },
  {
   "cell_type": "code",
   "execution_count": null,
   "metadata": {},
   "outputs": [],
   "source": [
    "import scala.util.DynamicVariable\n",
    "\n",
    "class Signal[T](expr: => T) {\n",
    "  import Signal._ // Required for 'caller' defined in companion object\n",
    "  private var curExpr: () => T = _\n",
    "  private var curVal: T = _\n",
    "  private var observers: Set[Signal[_]] = Set()\n",
    "\n",
    "  update(expr)\n",
    "\n",
    "  protected def computeValue(): Unit = {\n",
    "    curVal = caller.withValue(this)(curExpr())\n",
    "    observers.foreach(_.computeValue())\n",
    "  }\n",
    "\n",
    "  protected def update(expr: => T): Unit = {\n",
    "    curExpr = () => expr\n",
    "    computeValue()\n",
    "  }\n",
    "\n",
    "  def apply() = {\n",
    "    observers += caller.value\n",
    "    curVal\n",
    "  }\n",
    "\n",
    "}\n",
    "\n",
    "class Var[T](expr: => T) extends Signal[T](expr) {\n",
    "  override def update(expr: => T): Unit = super.update(expr)\n",
    "}\n",
    "\n",
    "\n",
    "// Companion objects to enable instance creation without 'new' keyword\n",
    "object Signal {\n",
    "  val caller = new DynamicVariable[Signal[_]](NoSignal)\n",
    "  def apply[T](expr: => T) = new Signal(expr)\n",
    "}\n",
    "object Var { def apply[T](expr: => T) = new Var(expr) }\n",
    "\n",
    "object NoSignal extends Signal[Nothing](???) { override def computeValue() = () }\n",
    "\n",
    "\n",
    "def consolidated(accts: List[BankAccount]): Signal[Int] =\n",
    "  Signal(accts.map(_.balance()).sum)"
   ]
  },
  {
   "cell_type": "markdown",
   "metadata": {},
   "source": [
    "I've just made one more little change: I didn't set values for `curVal` and `curExpr` directly and instead called `update` afterwards. This ensures two things: First, we don't have to repeat code in `computeValue` this way. Second, when initializing `NoSignal`, the constructor doesn't try to evaluate anything since it's method `computeValue` was overridden with an empty method."
   ]
  },
  {
   "cell_type": "markdown",
   "metadata": {},
   "source": [
    "Let's test it:"
   ]
  },
  {
   "cell_type": "code",
   "execution_count": null,
   "metadata": {},
   "outputs": [],
   "source": [
    "val a = new BankAccount()\n",
    "val b = new BankAccount()\n",
    "val c = consolidated(List(a,b))\n",
    "\n",
    "a deposit 20\n",
    "b deposit 30\n",
    "print(c()) // Prints \"50\""
   ]
  },
  {
   "cell_type": "markdown",
   "metadata": {},
   "source": [
    "Looks good! I hope you agree that this solution is much more elegant than the one we came up with in the [last article](https://itnext.io/functional-reactive-programming-in-scala-from-scratch-part-2-3d1559a11629). All thanks to `DynamicVariabe`s.\n",
    "\n",
    "If you want to actually use this code, you'll need to take care of two more little things. Let's check them out.\n",
    "\n",
    "### A Few More Improvements\n",
    "\n",
    "There are just two more little improvements I want to write about:\n",
    "- Currently, observers will never get removed once they were added to the set of observers. When assigning a new expression to a `Signal`, it might stop depending on other `Signal`s it previously depended on. We should take this into account.\n",
    "- It is currently possible to define `Signal`s that depend on each other. This cyclic dependency will lead to infinite loops if not handled properly. E.g. look at the following code where `b` is a function of `a` and `a` is a function of `b`:"
   ]
  },
  {
   "cell_type": "code",
   "execution_count": null,
   "metadata": {
    "scrolled": false
   },
   "outputs": [],
   "source": [
    "val a = Var(0)\n",
    "val b = Signal(a() + 1)\n",
    "a() = b() + 1 // Will result in a java.lang.StackOverflowError"
   ]
  },
  {
   "cell_type": "markdown",
   "metadata": {},
   "source": [
    "Fortunately, both of these issues can be solved quite easily. In order to update the observers when necessary, we only need to reset the observers everytime `computeValue` is executed:"
   ]
  },
  {
   "cell_type": "code",
   "execution_count": null,
   "metadata": {},
   "outputs": [],
   "source": [
    "protected def computeValue(): Unit = {\n",
    "    curVal = caller.withValue(this)(curExpr())\n",
    "    val obs = observers\n",
    "    observers = Set()\n",
    "    obs.foreach(_.computeValue())\n",
    "}"
   ]
  },
  {
   "cell_type": "markdown",
   "metadata": {},
   "source": [
    "Since all observers that still depend on the `Signal` will call the `Signal`'s apply method, they will be re-added to the set of observers shortly after being removed. All observers that no longer depend on the `Signal` will not.\n",
    "\n",
    "Second, to prevent cyclic `Signal` definitions, we only need to add a little `assert` statement to the apply method:"
   ]
  },
  {
   "cell_type": "code",
   "execution_count": null,
   "metadata": {},
   "outputs": [],
   "source": [
    "def apply() = {\n",
    "    observers += caller.value\n",
    "    assert(!caller.value.observers.contains(this), \"cyclic signal definition\")\n",
    "    curVal\n",
    "}"
   ]
  },
  {
   "cell_type": "markdown",
   "metadata": {},
   "source": [
    "The assert statement will throw an error if the calling `Signal` observes the `Signal` whose value it retrieves.\n",
    "\n",
    "---\n",
    " \n",
    "That's it! Thank you for bearing with me during this rather lengthy explanation on how to implement a little framework for Functional Reactive Programming in Scala from scratch. I hope you learned something from it.\n",
    "\n",
    "\n",
    "### Where to Go From Here\n",
    "\n",
    "- The actual implementation of Scala.React has quite a few more features that I haven't mentioned here. If you're interested to dig deeper check out the paper [Deprecating  the  Observer  Pattern with  Scala.React](https://infoscience.epfl.ch/record/176887/files/DeprecatingObservers2012.pdf) or the [source code on GitHub](https://github.com/ingoem/scala-react).\n",
    "\n",
    "- There are a few other frameworks for Functional Reactive Programming in Scala. I'm aware of [scala.rx](https://github.com/lihaoyi/scala.rx) and [reactify](https://index.scala-lang.org/outr/reactify/reactify/3.0.3?target=_2.12). (At least the first one of which is also heavily based on scala.react)\n",
    "\n",
    "- A related, much more popular framework is [RxScala](http://reactivex.io/rxscala/). However, RxScala is more an implementation of Reactive Programming than of *Functional* Reactive Programming. (If you're confused about the differences, check out my article [Demystifying Functional Reactive Programming](https://itnext.io/demystifying-functional-reactive-programming-67767dbe520b)). Depending on what you're after, though, RxScala might be a perfectly good and well-documented solution to your problem.\n",
    "\n",
    "---\n",
    "\n",
    "I'm planning to look into some of these libraries in future posts, so make sure to check back. Also, I'm planning to look into how the code from this series of posts could be translated into Python.\n",
    "\n",
    "If you have any comments, please leave them!"
   ]
  },
  {
   "cell_type": "code",
   "execution_count": null,
   "metadata": {},
   "outputs": [],
   "source": []
  }
 ],
 "metadata": {
  "kernelspec": {
   "display_name": "Scala 2.11",
   "language": "scala211",
   "name": "scala211"
  },
  "language_info": {
   "codemirror_mode": "text/x-scala",
   "file_extension": ".scala",
   "mimetype": "text/x-scala",
   "name": "scala211",
   "pygments_lexer": "scala",
   "version": "2.11.6"
  }
 },
 "nbformat": 4,
 "nbformat_minor": 2
}
