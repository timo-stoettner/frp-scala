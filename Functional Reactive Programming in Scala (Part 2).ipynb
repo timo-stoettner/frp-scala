{
 "cells": [
  {
   "cell_type": "markdown",
   "metadata": {},
   "source": [
    "## Functional Reactive Programming in Scala from Scratch (Part 2)"
   ]
  },
  {
   "cell_type": "markdown",
   "metadata": {},
   "source": [
    "In this series of posts we want to develop a little framework for Functional Reactive Programming in Scala from scratch. If you haven't read the first part of the series yet, make sure to check it out [here](https://itnext.io/functional-reactive-programming-in-scala-from-scratch-part-1-9f9db0c47478).\n",
    "\n",
    "---\n",
    "\n",
    "In the last article we started off with an implementation of a little framework for Functional Reactive Programming in Scala. Our goal was to write implementations for `Signal` and `Var` that enable us to do the following:"
   ]
  },
  {
   "cell_type": "code",
   "execution_count": 9,
   "metadata": {},
   "outputs": [
    {
     "data": {
      "text/plain": [
       "defined \u001b[32mclass \u001b[36mBankAccount\u001b[0m\n",
       "defined \u001b[32mfunction \u001b[36mconsolidated\u001b[0m\n",
       "\u001b[36ma\u001b[0m: \u001b[32m$user\u001b[0m.\u001b[32mBankAccount\u001b[0m = cmd6$$user$BankAccount@35cfd223\n",
       "\u001b[36mb\u001b[0m: \u001b[32m$user\u001b[0m.\u001b[32mBankAccount\u001b[0m = cmd6$$user$BankAccount@215fc731\n",
       "\u001b[36mtotal\u001b[0m: \u001b[32mSignal\u001b[0m[\u001b[32mInt\u001b[0m] = cmd5$$user$Signal@b712e41"
      ]
     },
     "metadata": {},
     "output_type": "display_data"
    }
   ],
   "source": [
    "class BankAccount {\n",
    "  val balance = Var(0)\n",
    "\n",
    "  def deposit(x: Int): Unit = {\n",
    "    val curBalance = balance()\n",
    "    balance() = curBalance + x\n",
    "  }\n",
    "  def withdraw(x: Int): Unit = {\n",
    "    val curBalance = balance()\n",
    "    balance() = curBalance - x\n",
    "  }\n",
    "}\n",
    "\n",
    "def consolidated(accts: List[BankAccount]) =\n",
    "  Signal(accts.map(_.balance()).sum)\n",
    "\n",
    "val a = new BankAccount()\n",
    "val b = new BankAccount()\n",
    "val total = consolidated(List(a,b))"
   ]
  },
  {
   "cell_type": "markdown",
   "metadata": {},
   "source": [
    "Calling `total()` is then supposed to return the combined balance of both our `BankAccount`s at all times.\n",
    "\n",
    "We achieved an implementation for `BankAccount` that worked in the way we expected in itself, but the consolidation didn't quite work out yet. The reason was that with our implementation of `Signal` and `Var`, `consolidated` got computed once on initialization and then stayed the same forever. To recap, this was our implementation of `Signal` and `Var`:"
   ]
  },
  {
   "cell_type": "code",
   "execution_count": 1,
   "metadata": {},
   "outputs": [
    {
     "data": {
      "text/plain": [
       "defined \u001b[32mclass \u001b[36mSignal\u001b[0m\n",
       "defined \u001b[32mclass \u001b[36mVar\u001b[0m\n",
       "defined \u001b[32mobject \u001b[36mSignal\u001b[0m\n",
       "defined \u001b[32mobject \u001b[36mVar\u001b[0m"
      ]
     },
     "metadata": {},
     "output_type": "display_data"
    }
   ],
   "source": [
    "class Signal(initVal: Int) {\n",
    "    private var curVal = initVal\n",
    "    def apply(): Int = curVal\n",
    "    protected def update(x: Int): Unit = curVal = x\n",
    "}\n",
    "\n",
    "class Var(initVal:Int) extends Signal(initVal: Int) {\n",
    "    override def update(x: Int): Unit = super.update(x)\n",
    "}\n",
    "\n",
    "// Companion objects to enable instance creation without 'new' keyword\n",
    "object Signal { def apply(initVal: Int) = new Signal(initVal) }\n",
    "object Var { def apply(initVal: Int) = new Var(initVal) }"
   ]
  },
  {
   "cell_type": "markdown",
   "metadata": {},
   "source": [
    "What made our implementation fail, is that we immediately evaluate `initVal` when passing it to the constructor of `Signal`. Later changes are irrelevant simply because `Signal`s value doesn't get reevaluated. \n",
    "\n",
    "So how do we get around this? Let's employ some tools from Functional Programming.\n",
    "\n",
    "## Making Use of Functional Programming\n",
    "\n",
    "What we want to achieve is that `total` gets recomputed everytime one of the `BankAccount`s' balances changes. In other words, the `Signal` that's returned by `consolidated` is supposed to be a *function of the other Signals* it depends on. (If you skimmed over this part, you might want to read it again.)\n",
    "\n",
    "Welcome to Functional Programming. So far we've only passed integer values around. Now we want to pass arbitrary functions around.\n",
    "\n",
    "So how do we do that? First, we need to make sure that we can actually pass arbitrary expressions to our classes and we need to stop limiting ourselves to integers. We do that by replacing our Int-type declarations to generic types. \n",
    "\n",
    "Second, we need to store our expression in a way that makes sure it doesn't get evaluated in a call-by-value manner. If we change our constructor parameter to be call-by-name, it can be reevaluated whenever something changes.\n",
    "\n",
    "(If you're a little foggy on call-by-value and call-by-name, check out [this brief and simple explanation](https://alvinalexander.com/source-code/scala/simple-scala-call-name-example)). \n",
    "\n",
    "Let's have a look at how this can be implemented:"
   ]
  },
  {
   "cell_type": "code",
   "execution_count": 3,
   "metadata": {},
   "outputs": [
    {
     "data": {
      "text/plain": [
       "defined \u001b[32mclass \u001b[36mSignal\u001b[0m\n",
       "defined \u001b[32mclass \u001b[36mVar\u001b[0m\n",
       "defined \u001b[32mobject \u001b[36mSignal\u001b[0m\n",
       "defined \u001b[32mobject \u001b[36mVar\u001b[0m"
      ]
     },
     "metadata": {},
     "output_type": "display_data"
    }
   ],
   "source": [
    "class Signal[T](expr: => T) {\n",
    "    private var curExpr: () => T = () => expr\n",
    "    private var curVal: T = expr\n",
    "\n",
    "    protected def update(expr: => T): Unit = {\n",
    "        curExpr = () => expr\n",
    "        curVal = expr\n",
    "    }\n",
    "    \n",
    "    def apply() = curVal\n",
    "}\n",
    "\n",
    "class Var[T](expr: => T) extends Signal[T](expr) {\n",
    "    override def update(expr: => T): Unit = super.update(expr)\n",
    "}\n",
    "\n",
    "// Companion objects to enable instance creation without 'new' keyword\n",
    "object Signal { def apply[T](expr: => T) = new Signal(expr) }\n",
    "object Var { def apply[T](expr: => T) = new Var(expr) }"
   ]
  },
  {
   "cell_type": "markdown",
   "metadata": {},
   "source": [
    "We made a few changes here:\n",
    "\n",
    "1. We exchanged our integer types with generic types in all applicable places.\n",
    "2. We renamed `initVal` to `expr` to illustrate that we are not just passing integer values around anymore but that we are working with arbitrary expressions. Also, we defined `expr` as call-by-name (`expr: => T`), meaning that it won't be evaluated immediately.\n",
    "3. We added another variable `curExpr` that stores our expression without evaluating it and that can be updated to a new expression when needed. The syntax `var curExpr: () => T = () => expr` might need a few glances to wrap your head around. It defines a `var` of type `() => T` (an anonymous function) with the value `() => expr`. We can then call `curExpr()` to evaluate the expression.\n",
    "4. Our `update` method now updates both `curExpr` and `curVal`\n",
    "\n",
    "This gets us a step closer to our first working implementation. But as you might have guessed, it doesn't work yet. `expr` gets evaluated once we reach `private var curVal = expr`. So nothing really changes. (If you run the code from the end of the last article with these implementations of `Signal` and `Var`, you'll get the same results. I encourage you to try it out for yourself.)\n",
    "\n",
    "As I wrote above, `total` needs to be recomputed everytime one of our `BankAccount`s balances changes. To ensure this, we need to keep track of the `Signal`s that depend on (i.e. \"observe\") our individual balances. If we don't know which `Signal`s depend on our balances, we don't know what we need to recompute once they change.\n",
    "\n",
    "In the observer pattern we solve this problem by having the consolidator explicitly subscribe to every subject (i.e. `BankAccount`) it depends on. However, we want to write code that is more elegant than the observer pattern. The observer pattern requires quite a bit of boilerplate code that we want to avoid here.\n",
    "\n",
    "So how can we solve this for our implementation of `Signal` and `Var`? Let's have a look.\n",
    "\n",
    "\n",
    "## Keeping Track of Dependencies\n",
    "\n",
    "One straightforward approach to keeping track of which `Signal`s need to be recomputed once a specific `Signal` changes, is to specifically pass the \"subjects\" it depends on to its constructor. When we initialize the `Signal`, we then need to tell it two things:\n",
    "\n",
    "1. The expression it is supposed to compute\n",
    "2. The other `Signal`s it is supposed to watch for changes, so it can recompute its value when they change\n",
    "\n",
    "Let's have a look at how we could implement something like this:"
   ]
  },
  {
   "cell_type": "code",
   "execution_count": 7,
   "metadata": {},
   "outputs": [
    {
     "data": {
      "text/plain": [
       "defined \u001b[32mclass \u001b[36mSignal\u001b[0m\n",
       "defined \u001b[32mobject \u001b[36mSignal\u001b[0m\n",
       "defined \u001b[32mclass \u001b[36mVar\u001b[0m\n",
       "defined \u001b[32mobject \u001b[36mVar\u001b[0m"
      ]
     },
     "metadata": {},
     "output_type": "display_data"
    }
   ],
   "source": [
    "class Signal[T](expr: => T, observed: List[Signal[_]] = Nil) {\n",
    "  private var curExpr: () => T = () => expr\n",
    "  private var curVal: T = expr\n",
    "    \n",
    "  private var observers: Set[Signal[_]] = Set()\n",
    "  observed.foreach( obs => obs.observers += this )\n",
    "\n",
    "  protected def computeValue(): Unit = {\n",
    "    curVal = curExpr()\n",
    "    observers.foreach(_.computeValue())\n",
    "  }\n",
    "\n",
    "  protected def update(expr: => T): Unit = {\n",
    "    curExpr = () => expr\n",
    "    computeValue()\n",
    "  }\n",
    "\n",
    "  def apply() = curVal\n",
    "\n",
    "}\n",
    "\n",
    "object Signal {\n",
    "  def apply[T](expr: => T,  observed: List[Signal[_]] = Nil) = new Signal(expr, observed)\n",
    "}\n",
    "\n",
    "// Leave the implementation of Var as it is for now\n",
    "class Var[T](expr: => T) extends Signal[T](expr) {\n",
    "  override def update(expr: => T): Unit = super.update(expr)\n",
    "}\n",
    "object Var { def apply[T](expr: => T) = new Var(expr) }"
   ]
  },
  {
   "cell_type": "markdown",
   "metadata": {},
   "source": [
    "We changed a few more things here:\n",
    "1. There's now an optional constructor parameter `observed: List[Signal[_]] = Nil`. It can be used to pass a List of `Signal`s that the defined `Signal` depends on. As you can see, it defaults to `Nil`. So, if you don't pass anything, our newly defined `Signal` won't be updated when other `Signal`s change their values.\n",
    "2. We added a `private var observers` that is initialized as an empty `Set`. When a new `Signal` is initialized, it iterates over `observed` and adds itself to `observers` of all its observed `Signal`s: `observed.foreach( obs => obs.observers += this )`\n",
    "3. We added a method `computeValue` that updates the `Signal`'s current value by evaluating its current expression and has all its observers update their values as well.\n",
    "4. `update` incorporates our new method `computeValue`\n",
    "\n",
    "In order to make use of this implementation in our bank account example, we also need to make a little change to our function `consolidated` - we need to explicitly pass the `Signal`s our consolidator depends on:"
   ]
  },
  {
   "cell_type": "code",
   "execution_count": 10,
   "metadata": {
    "scrolled": true
   },
   "outputs": [
    {
     "data": {
      "text/plain": [
       "defined \u001b[32mfunction \u001b[36mconsolidated\u001b[0m"
      ]
     },
     "metadata": {},
     "output_type": "display_data"
    }
   ],
   "source": [
    "def consolidated(accts: List[BankAccount]): Signal[Int] =\n",
    "  Signal(accts.map(_.balance()).sum, accts.map(_.balance))"
   ]
  },
  {
   "cell_type": "markdown",
   "metadata": {},
   "source": [
    "The good news is, this is our first working implementation of what we wanted to achieve! If you put the code together and run the following, you'll get the expected results:"
   ]
  },
  {
   "cell_type": "code",
   "execution_count": 11,
   "metadata": {},
   "outputs": [
    {
     "name": "stdout",
     "output_type": "stream",
     "text": [
      "Total balance: 50"
     ]
    },
    {
     "data": {
      "text/plain": [
       "\u001b[36ma\u001b[0m: \u001b[32mBankAccount\u001b[0m = cmd6$$user$BankAccount@9b73f8\n",
       "\u001b[36mb\u001b[0m: \u001b[32mBankAccount\u001b[0m = cmd6$$user$BankAccount@60c56da7\n",
       "\u001b[36mtotal\u001b[0m: \u001b[32mSignal\u001b[0m[\u001b[32mInt\u001b[0m] = cmd5$$user$Signal@d517230"
      ]
     },
     "metadata": {},
     "output_type": "display_data"
    }
   ],
   "source": [
    "val a = new BankAccount()\n",
    "a deposit 20                        // -> a.balance() == 20\n",
    "\n",
    "val b = new BankAccount()\n",
    "val total = consolidated(List(a,b)) // total() == 20\n",
    "\n",
    "b deposit 30                        // b.balance() == 30\n",
    "print(s\"Total balance: ${total()}\") // Prints \"Total balance: 50\""
   ]
  },
  {
   "cell_type": "markdown",
   "metadata": {},
   "source": [
    "The bad news is, this code is quite repetitive and error-prone. When defining our function `consolidated` we need to pass both the function it computes ( `accts.map(_.balance()).sum` ) and the `Signal`s it depends on ( `accts.map(_.balance)` ) to the constructor of `Signal`. As you can see, this is almost the exact same code twice - at least in this simple case.\n",
    "\n",
    "Also, when updating our expression in a `Var`, we will currently not update the `observed` Signals. We could probably get around this by passing a new `observed` with calls to `update`, but this is deemed to get ugly pretty soon.\n",
    "\n",
    "In the next article, we will have a look at how our Signals can figure out for themselves what other Signals they depend on. We'll come up with our final, much more elegant implementation. So stay tuned!"
   ]
  },
  {
   "cell_type": "code",
   "execution_count": null,
   "metadata": {},
   "outputs": [],
   "source": []
  }
 ],
 "metadata": {
  "kernelspec": {
   "display_name": "Scala 2.11",
   "language": "scala211",
   "name": "scala211"
  },
  "language_info": {
   "codemirror_mode": "text/x-scala",
   "file_extension": ".scala",
   "mimetype": "text/x-scala",
   "name": "scala211",
   "pygments_lexer": "scala",
   "version": "2.11.6"
  }
 },
 "nbformat": 4,
 "nbformat_minor": 2
}
