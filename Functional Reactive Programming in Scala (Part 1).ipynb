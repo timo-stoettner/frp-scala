{
 "cells": [
  {
   "cell_type": "markdown",
   "metadata": {},
   "source": [
    "# Functional Reactive Programming in Scala from Scratch (Part 1)\n",
    "\n",
    "Since the [reactive manifesto](https://www.reactivemanifesto.org) has been published, reactive programming has been experiencing quite a bit of a hype. A bunch of libraries have been developed for basically every major programming language which facilitate reactive programming. Among the most prominent of them are the ReactiveX Libraries that exist for Javascript, Python, Scala and a quite few others.\n",
    "\n",
    "While these libraries are great, they are not to be confused with *functional* reactive programming. As is stated in the documentation of ReactiveX itself:\n",
    "\n",
    "    It is sometimes called “functional reactive programming” but this is a misnomer. ReactiveX may be functional, and it may be reactive, but “functional reactive programming” is a different animal.\n",
    "    \n",
    "The main point of difference between reactive libraries such as ReactiveX and Functional Reactive Programming is that these libraries mostly just look at *events* and not at *behaviours*. Events are discrete values that are emitted over time, such as mouse clicks. Behaviours are continuous values that always have a current value, such as the mouse position.\n",
    "\n",
    "A mouse click itself does not have a value - it's just an event that gets fired everytime the user clicks somewhere. A mouse position, on the other hand, always has a current value - but it doesn't get \"fired\" at certain points in time.\n",
    "\n",
    "If you're confused about all of this, have a look at my article [Demystifying Functional Reactive Programming](https://itnext.io/demystifying-functional-reactive-programming-67767dbe520b) discussing all of these buzz words I just dropped in much more detail."
   ]
  },
  {
   "cell_type": "markdown",
   "metadata": {},
   "source": [
    "---\n",
    "\n",
    "In this series of articles we are going to develop a little framework for Functional Reactive Programming in Scala, step-by-step and entirely from scratch. The code we'll look at is a simplified version of Martin Odersky's and Ingo Maier's Scala.React that is also described in the paper [Deprecating  the  Observer  Pattern with  Scala.React](https://infoscience.epfl.ch/record/176887/files/DeprecatingObservers2012.pdf)\n",
    "\n",
    "I got inspired to write this by watching a [video](https://www.coursera.org/lecture/progfun2/lecture-4-2-functional-reactive-programming-pEsTy) of Martin Odersky's online course on Functional Programming, where he shortly explains parts of Scala.React. However, if you're not Martin Odersky, you might find the video pretty hard to follow. There's quite a lot going on in the code that doesn't immediately meet the eye. This series of posts will be an attempt to explain the concepts more gently. I believe the proposed programming framework results in very elegant code and even if you don't use it in your daily work, there's a lot to learn from it.\n",
    "\n",
    "*(Note: I'll assume some basic understanding of Scala. However, I'll try to explain the more advanced language features coming to play, so you should also be able to follow if you're not a Scala expert.)*\n",
    "\n",
    "---"
   ]
  },
  {
   "cell_type": "markdown",
   "metadata": {},
   "source": [
    "## Motivation\n",
    "\n",
    "Reactive Programming is often explained with an analogy to a spreadsheet. Imagine a cell containing the sum of two other cells. If you change the value of one cell, the cell containing the sum will be immediately updated as well - it *reacts* to the other cell's update.\n",
    "\n",
    "In the terms of classical Functional Reactive Programming, the cells' values are *behaviours*. They contain values that change over time. The sum is a *function* of time that depends on the other two cells' values.\n",
    "\n",
    "Behaviours are sometimes also referred to as *signals*. In the following I will also call it *signal* because I find it to be a better word for it. (A signal doesn't just 'behave' the way it wants, but it reflects a value that might in turn depend on other signals.) Also, Scala.React calls it signal as well.\n",
    "\n",
    "In this article we will look at a very similar but slightly simpler example, not to complicate things unnecessarily. We will look at an example of a BankAccount class the let's you deposit and withdraw money. A consolidator will then sum up the BankAccounts you tell it to depend on, so you know your total balance at all times. (The consolidator is the analog to the sum-cell in the spreadsheet example.)"
   ]
  },
  {
   "cell_type": "markdown",
   "metadata": {},
   "source": [
    "So enough talking, let's look at some code. What we're after is to be able to write code that looks as follows:"
   ]
  },
  {
   "cell_type": "code",
   "execution_count": null,
   "metadata": {
    "scrolled": false
   },
   "outputs": [],
   "source": [
    "class BankAccount {\n",
    "  val balance = Var(0)\n",
    "\n",
    "  def deposit(x: Int): Unit = {\n",
    "    val curBalance = balance()\n",
    "    balance() = curBalance + x\n",
    "  }\n",
    "  def withdraw(x: Int): Unit = {\n",
    "    val curBalance = balance()\n",
    "    balance() = curBalance - x\n",
    "  }\n",
    "}\n",
    "\n",
    "def consolidated(accts: List[BankAccount]) =\n",
    "  Signal(accts.map(_.balance()).sum)\n",
    "\n",
    "val a = new BankAccount()\n",
    "val b = new BankAccount()\n",
    "val total = consolidated(List(a,b))"
   ]
  },
  {
   "cell_type": "markdown",
   "metadata": {},
   "source": [
    "The `BankAccount` class simply lets you deposit and withdraw money and keeps track of the balance of your bank account. The `consolidated` function returns a `Signal` summing up the balances of the `BankAccount`s you pass to it. \n",
    "\n",
    "Pretty elegant, isn't it? In the end you'll be able to simply call `total()` to get the current value of your two bank accounts whenever you feel like it. You won't have to keep track of observers and subjects as in the [observer pattern](https://en.wikipedia.org/wiki/Observer_pattern). And you'll actually have a continuous value (as in FRP's 'behaviour') that depends on other values and gets updated automatically.\n",
    "\n",
    "So how are we going to implement these mysterious `Signal`s and `Var`s? Let's get at it."
   ]
  },
  {
   "cell_type": "markdown",
   "metadata": {},
   "source": [
    "## Understanding `Var`"
   ]
  },
  {
   "cell_type": "markdown",
   "metadata": {},
   "source": [
    "First, to start off easy, let's ignore the fact that we want to consolidate various bank accounts in the way shown above. Let's only have a look at the class `BankAccount` itself. How could we implement `Var` to make the following code work?"
   ]
  },
  {
   "cell_type": "code",
   "execution_count": null,
   "metadata": {},
   "outputs": [],
   "source": [
    "class BankAccount {\n",
    "  val balance = Var(0)\n",
    "\n",
    "  def deposit(x: Int): Unit = {\n",
    "    val curBalance = balance()\n",
    "    balance() = curBalance + x\n",
    "  }\n",
    "  def withdraw(x: Int): Unit = {\n",
    "    val curBalance = balance()\n",
    "    balance() = curBalance - x\n",
    "  }\n",
    "}\n",
    "\n",
    "val a = new BankAccount()\n",
    "a deposit 20\n",
    "a.balance() // -> 20"
   ]
  },
  {
   "cell_type": "markdown",
   "metadata": {},
   "source": [
    "While it should be fairly straightforward to grasp what's going on in this piece of code, if you have a basic understanding of scala, there are quite a few instances of scala's syntactic sugar coming to play here. Without knowing them, you'll probably have a hard time coming up with an implementation of `Var`. So let's have a quick look at them.\n",
    "\n",
    "#### 1. `apply` in companion object\n",
    "As you might know, if you define an `apply` method in the companion object of a class, you can create an instance of the class without the `new` keyword. A companion object is defined as an object with the exact same name as the class it is \"accompanying\". To make the statement `val balance = Var(0)` work, you need to do the following:"
   ]
  },
  {
   "cell_type": "markdown",
   "metadata": {},
   "source": [
    "Here we just defined the class `Var` that takes an integer and a compantion object with an apply method that returns an instance of `Var`. Also, we added a variable `curVal` to `Var` in order to be able to change the class's value later."
   ]
  },
  {
   "cell_type": "markdown",
   "metadata": {},
   "source": [
    "#### 2. `apply` as a class method\n",
    "When adding a method `apply` to a class (not to its companion object), instances of the class can be called as if they were a method. The compiler converts this automatically into calls to the classes `apply` method. For example, \n",
    "\n",
    "`balance()`\n",
    "\n",
    "will be converted by the compiler into \n",
    "\n",
    "`balance.apply()`.\n",
    "\n",
    "Equipped with this knowledge, it's quite straighforward to add the functionality that enables us to retrieve the current value of `balance` by calling `balance()`: "
   ]
  },
  {
   "cell_type": "code",
   "execution_count": null,
   "metadata": {},
   "outputs": [],
   "source": [
    "class Var(initVal:Int) {\n",
    "    private var curVal = initVal\n",
    "    def apply() = curVal\n",
    "}\n",
    "object Var {\n",
    "    def apply(initVal:Int) = new Var(initVal)\n",
    "}"
   ]
  },
  {
   "cell_type": "markdown",
   "metadata": {},
   "source": [
    "Now, when we define `balance` as an instance of `Var` and call `balance()`, we will retrieve the current value as stored in `curVal`. \n",
    "\n",
    "(Actually, the `apply`-trick works in exactly the same way for the companion object as it does for the class method. When you call `Var()`, the compiler converts this into `Var.apply()`. Since you cannot call a class method without having an instance of it, this evokes the companion object's `apply` method. When calling `balance()`, this evokes the `apply` method of the class, that `balance` is an instance of.)  \n",
    "\n",
    "#### 3. `update` as a class method\n",
    "As we saw, the scala compiler converts `balance()` into `balance.apply()`. Similarly, the line \n",
    "\n",
    "`balance() = 5`  \n",
    "\n",
    "gets converted into \n",
    "\n",
    "`balance.update(5)`.\n",
    "\n",
    "You might have been using this syntactic sugar unknowlingly quite a few times already. When having some array `arr`, the code `arr(1) = 5` gets converted into `arr.update(1,5)`\n",
    "\n",
    "Knowing this, it should be quite straightforward to make the line `balance() = curBalance + x` work. The complete code to make our BankAccount class from above work is as follows:"
   ]
  },
  {
   "cell_type": "code",
   "execution_count": null,
   "metadata": {},
   "outputs": [],
   "source": [
    "class Var(initVal: Int) {\n",
    "    private var curVal = initVal\n",
    "    def apply(): Int = curVal\n",
    "    def update(x: Int): Unit = curVal = x\n",
    "}\n",
    "object Var {\n",
    "    def apply(initVal: Int) = new Var(initVal)\n",
    "}"
   ]
  },
  {
   "cell_type": "markdown",
   "metadata": {},
   "source": [
    "## Understanding Signals\n",
    "\n",
    "In the example so far I've glossed over the implementation of `Signal`. As you might've noticed, the function `consolidated` is supposed to return a `Signal` and we've only covered `Var` so far. \n",
    "\n",
    "Actually, `Var` is supposed to be a subclass of `Signal`. What we're after is that we want to be able to define an immutable signal (one that always has the same value) with `Signal` and one whose value can change with `Var`. \n",
    "\n",
    "So after defining `val s = Signal(3)` the value of `s` will remain to be 3, no matter what. However, as we've seen, we can update the `Var` balance like this, changing its value to 20:\n",
    "\n",
    "```\n",
    "val balance = Var(0)\n",
    "balance() = 20\n",
    "```\n",
    "\n",
    "(Note that balance itself is an immutable value defined with `val`. Only the private variable of the instance of `Var` changes, while we cannot assign a new instance of `Var` to the value `balance` itself.)\n",
    "\n",
    "You might ask yourself: How is a `Signal` going to be of any use if it's immutable? Isn't `consolidated` supposed to update itself everytime a `BankAccount`s balance is updated? \n",
    "\n",
    "Actually, `consolidated`'s value is a *function* of the `BankAccount`s values it depends on. The function isn't supposed to change. Only the value this function returns will change over time. If this isn't clear yet, it will hopefully become clearer later on.\n",
    "\n",
    "So back to our definition of `Var`, how can we expand on the implementation from above to be able to update `balance`? Let's have a look:"
   ]
  },
  {
   "cell_type": "code",
   "execution_count": 1,
   "metadata": {},
   "outputs": [
    {
     "data": {
      "text/plain": [
       "defined \u001b[32mclass \u001b[36mSignal\u001b[0m\n",
       "defined \u001b[32mclass \u001b[36mVar\u001b[0m\n",
       "defined \u001b[32mobject \u001b[36mSignal\u001b[0m\n",
       "defined \u001b[32mobject \u001b[36mVar\u001b[0m"
      ]
     },
     "metadata": {},
     "output_type": "display_data"
    }
   ],
   "source": [
    "class Signal(initVal: Int) {\n",
    "    private var curVal = initVal\n",
    "    def apply(): Int = curVal\n",
    "    protected def update(x: Int): Unit = curVal = x\n",
    "}\n",
    "\n",
    "class Var(initVal:Int) extends Signal(initVal: Int) {\n",
    "    override def update(x: Int): Unit = super.update(x)\n",
    "}\n",
    "\n",
    "\n",
    "// Companion objects to enable instance creation without 'new' keyword\n",
    "object Signal { def apply(initVal: Int) = new Signal(initVal) }\n",
    "object Var { def apply(initVal: Int) = new Var(initVal) }"
   ]
  },
  {
   "cell_type": "markdown",
   "metadata": {},
   "source": [
    "What we've done here is that we've basically just taken the implementation of `Var` from above and called it `Signal`. To reflect the fact that you should not be able to modify Signal from outside the class (or from subclasses) we added the `protected` keyword to the `update` method. Finally, `Var` extends `Signal` and the `update` method gets overridden without the `protected` keyword to be able to use the method from the outside world."
   ]
  },
  {
   "cell_type": "markdown",
   "metadata": {},
   "source": [
    "Looks good, right? Now we have all the building blocks we need. We've defined `Signal`s and `Var`s and the type checker is happy. So let's just give it a shot!"
   ]
  },
  {
   "cell_type": "code",
   "execution_count": 2,
   "metadata": {},
   "outputs": [
    {
     "name": "stdout",
     "output_type": "stream",
     "text": [
      "Total balance: 0"
     ]
    },
    {
     "data": {
      "text/plain": [
       "defined \u001b[32mclass \u001b[36mBankAccount\u001b[0m\n",
       "defined \u001b[32mfunction \u001b[36mconsolidated\u001b[0m\n",
       "\u001b[36ma\u001b[0m: \u001b[32m$user\u001b[0m.\u001b[32mBankAccount\u001b[0m = cmd1$$user$BankAccount@34e1b40\n",
       "\u001b[36mb\u001b[0m: \u001b[32m$user\u001b[0m.\u001b[32mBankAccount\u001b[0m = cmd1$$user$BankAccount@751e8002\n",
       "\u001b[36mtotal\u001b[0m: \u001b[32mSignal\u001b[0m = cmd0$$user$Signal@259451cf"
      ]
     },
     "metadata": {},
     "output_type": "display_data"
    }
   ],
   "source": [
    "class BankAccount {\n",
    "  val balance = Var(0)\n",
    "\n",
    "  def deposit(x: Int): Unit = {\n",
    "    val curBalance = balance()\n",
    "    balance() = curBalance + x\n",
    "  }\n",
    "  def withdraw(x: Int): Unit = {\n",
    "    val curBalance = balance()\n",
    "    balance() = curBalance - x\n",
    "  }\n",
    "}\n",
    "\n",
    "def consolidated(accts: List[BankAccount]) =\n",
    "  Signal(accts.map(_.balance()).sum)\n",
    "\n",
    "val a = new BankAccount()\n",
    "val b = new BankAccount()\n",
    "val total = consolidated(List(a,b))\n",
    "\n",
    "a deposit 20\n",
    "b deposit 30\n",
    "print(s\"Total balance: ${total()}\") // prints \"Total balance: 0\""
   ]
  },
  {
   "cell_type": "markdown",
   "metadata": {},
   "source": [
    "Well, that didn't quite work out yet, unfortunately. \n",
    "\n",
    "What happened is the following: The function `consolidated` retrieves the balances of each account, sums them up and returns a Signal with the result of that computation. If you look at the class definition of `Signal`, `initVal` is call-by-value. This means that its integer value gets computed on initialization and stays the same forever. The following little change in the code snippet illustrates this:"
   ]
  },
  {
   "cell_type": "code",
   "execution_count": 3,
   "metadata": {},
   "outputs": [
    {
     "name": "stdout",
     "output_type": "stream",
     "text": [
      "Total balance: 20"
     ]
    },
    {
     "data": {
      "text/plain": [
       "\u001b[36ma\u001b[0m: \u001b[32mBankAccount\u001b[0m = cmd1$$user$BankAccount@124164d7\n",
       "\u001b[36mb\u001b[0m: \u001b[32mBankAccount\u001b[0m = cmd1$$user$BankAccount@1ff68a12\n",
       "\u001b[36mtotal\u001b[0m: \u001b[32mSignal\u001b[0m = cmd0$$user$Signal@fec73fa"
      ]
     },
     "metadata": {},
     "output_type": "display_data"
    }
   ],
   "source": [
    "val a = new BankAccount()\n",
    "a deposit 20                        // a.balance() == 20\n",
    "\n",
    "val b = new BankAccount()\n",
    "val total = consolidated(List(a,b)) // total() == 20\n",
    "\n",
    "b deposit 30                        // b.balance() == 30\n",
    "print(s\"Total balance: ${total()}\") // prints \"Total balance: 20\""
   ]
  },
  {
   "cell_type": "markdown",
   "metadata": {},
   "source": [
    "Here we added 20 to the balance of bank account `a` before defining `total`. Therefore `total()` equals 20, irrespective of any changes we might make to the accounts' balances afterwards. \n",
    "\n",
    "In the next part of the series we'll have a look at how to get around this problem."
   ]
  }
 ],
 "metadata": {
  "kernelspec": {
   "display_name": "Scala 2.11",
   "language": "scala211",
   "name": "scala211"
  },
  "language_info": {
   "codemirror_mode": "text/x-scala",
   "file_extension": ".scala",
   "mimetype": "text/x-scala",
   "name": "scala211",
   "pygments_lexer": "scala",
   "version": "2.11.6"
  }
 },
 "nbformat": 4,
 "nbformat_minor": 2
}
